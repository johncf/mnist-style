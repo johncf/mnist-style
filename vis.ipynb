{
 "cells": [
  {
   "cell_type": "code",
   "execution_count": null,
   "id": "f3a7f565-d801-4fc4-a2a3-22456c9b2e69",
   "metadata": {
    "editable": true,
    "slideshow": {
     "slide_type": ""
    },
    "tags": []
   },
   "outputs": [],
   "source": [
    "from torchvision.datasets import MNIST\n",
    "from torchvision import transforms\n",
    "from torch.utils.data import DataLoader\n",
    "\n",
    "from mnist_style.models import Encoder, Decoder\n",
    "from mnist_style.persistence import load_models, save_models"
   ]
  },
  {
   "cell_type": "code",
   "execution_count": null,
   "id": "cf75b507-68c2-4e26-9d13-22771c3a48da",
   "metadata": {
    "editable": true,
    "scrolled": true,
    "slideshow": {
     "slide_type": ""
    },
    "tags": []
   },
   "outputs": [],
   "source": [
    "import matplotlib.pyplot as plt\n",
    "import numpy as np\n",
    "import pandas as pd\n",
    "import seaborn as sns\n",
    "from scipy import stats\n",
    "from functools import partial\n",
    "\n",
    "sns.set_theme()"
   ]
  },
  {
   "cell_type": "code",
   "execution_count": null,
   "id": "694bb35a-62af-4890-a7ea-4ee04c1052a2",
   "metadata": {
    "editable": true,
    "slideshow": {
     "slide_type": ""
    },
    "tags": []
   },
   "outputs": [],
   "source": [
    "latent_dim = 8\n",
    "encoder = Encoder(latent_dim)\n",
    "decoder = Decoder(latent_dim)\n",
    "\n",
    "load_models({\"encoder\": encoder, \"decoder\": decoder}, \"./pt-aae\")"
   ]
  },
  {
   "cell_type": "code",
   "execution_count": null,
   "id": "cf69199a-1989-4f1c-b6e8-2cef86344b08",
   "metadata": {
    "editable": true,
    "slideshow": {
     "slide_type": ""
    },
    "tags": []
   },
   "outputs": [],
   "source": [
    "transform = transforms.Compose([\n",
    "    transforms.ToTensor(),\n",
    "    transforms.Normalize((0.5,), (0.5,))\n",
    "])\n",
    "\n",
    "test_dataset = MNIST(root='./data', train=False, download=False, transform=transform)"
   ]
  },
  {
   "cell_type": "code",
   "execution_count": null,
   "id": "27cdfc68-142e-4b12-9caa-8522a0ade26c",
   "metadata": {
    "editable": true,
    "scrolled": true,
    "slideshow": {
     "slide_type": ""
    },
    "tags": []
   },
   "outputs": [],
   "source": [
    "test_dataloader = DataLoader(test_dataset, batch_size=256, shuffle=True)\n",
    "\n",
    "encoder.eval()\n",
    "for batch, labels in test_dataloader:\n",
    "    features = encoder(batch).detach().numpy()\n",
    "    columns = ['f' + chr(i + ord('a')) for i in range(features.shape[1])]\n",
    "    df = pd.DataFrame(features, columns=columns)\n",
    "    df = df.assign(digit=labels)\n",
    "    g = sns.pairplot(df, hue=\"digit\", palette=\"tab10\")  # hls\n",
    "    break"
   ]
  },
  {
   "cell_type": "code",
   "execution_count": null,
   "id": "80d110eb-723d-4103-b927-e04f6558e10e",
   "metadata": {},
   "outputs": [],
   "source": [
    "test_dataloader = DataLoader(test_dataset, batch_size=10, shuffle=True)\n",
    "\n",
    "encoder.eval()\n",
    "decoder.eval()\n",
    "fig, axs = plt.subplots(2, 10, figsize=(16, 3))\n",
    "for batch, _ in test_dataloader:\n",
    "    decoded_batch = decoder(encoder(batch)).detach().numpy()\n",
    "    for i, (image, decoded) in enumerate(zip(batch, decoded_batch)):\n",
    "        axs[0, i].set_axis_off()\n",
    "        axs[1, i].set_axis_off()\n",
    "        axs[0, i].imshow(image[0], cmap=\"viridis\")\n",
    "        axs[1, i].imshow(decoded[0], cmap=\"viridis\")\n",
    "    fig.tight_layout(pad=0, h_pad=1)\n",
    "    break"
   ]
  },
  {
   "cell_type": "code",
   "execution_count": null,
   "id": "5d15b422-d216-43b3-86e8-075ee4777c39",
   "metadata": {},
   "outputs": [],
   "source": [
    "rng = np.random.default_rng()"
   ]
  },
  {
   "cell_type": "code",
   "execution_count": null,
   "id": "c8c2c90f-c183-48ac-b9fc-f45fdc90cec7",
   "metadata": {},
   "outputs": [],
   "source": [
    "cdf = partial(stats.norm.cdf, loc=0, scale=2)\n",
    "sample = stats.norm.rvs(size=1000, scale=2, random_state=rng)\n",
    "print(stats.kstest(sample, cdf))\n",
    "print(-np.log10(stats.kstest(sample, cdf).pvalue))"
   ]
  },
  {
   "cell_type": "code",
   "execution_count": null,
   "id": "56264987-c192-4f0d-9c02-162a19c0dcce",
   "metadata": {},
   "outputs": [],
   "source": [
    "sns.histplot(sample)"
   ]
  },
  {
   "cell_type": "code",
   "execution_count": null,
   "id": "587acd74-7a14-407c-89d3-71bedfa020f5",
   "metadata": {
    "editable": true,
    "slideshow": {
     "slide_type": ""
    },
    "tags": []
   },
   "outputs": [],
   "source": [
    "test_dataloader = DataLoader(test_dataset, batch_size=400, shuffle=True)\n",
    "\n",
    "def neg_log_fit_goodness(samples, norm_scale=2):\n",
    "    cdf = partial(stats.norm.cdf, loc=0, scale=norm_scale)\n",
    "    return -np.log10(stats.ks_1samp(samples, cdf).pvalue)\n",
    "\n",
    "feat_names = ['feat ' + chr(ord('a') + i) for i in range(features.shape[1])]\n",
    "batch_dfs = []\n",
    "\n",
    "encoder.eval()\n",
    "for batch, labels in test_dataloader:\n",
    "    features = encoder(batch).detach().numpy()\n",
    "    df = pd.DataFrame(features, columns=feat_names)\n",
    "    df['digit'] = labels\n",
    "    batch_dfs.append(df)\n",
    "\n",
    "df = pd.concat(batch_dfs)\n",
    "print(len(df.index))\n",
    "all_goodness = neg_log_fit_goodness(df[feat_names].values.ravel())\n",
    "feat_wise_logps = [[all_goodness] + [neg_log_fit_goodness(df[feat]) for feat in feat_names]]\n",
    "for digit in range(10):\n",
    "    df_dig = df.query(f'digit == {digit}')\n",
    "    all_feat_goodness = neg_log_fit_goodness(df_dig[feat_names].values.ravel())\n",
    "    feat_wise_logps.append([all_feat_goodness] + [neg_log_fit_goodness(df_dig[feat]) for feat in feat_names])\n",
    "pd.DataFrame(feat_wise_logps, columns=['all features'] + feat_names, index=['all digits'] + [f'digit {i}' for i in range(10)])"
   ]
  },
  {
   "cell_type": "code",
   "execution_count": null,
   "id": "c9d1a4f2-f843-41e8-a586-518170b98c97",
   "metadata": {},
   "outputs": [],
   "source": []
  }
 ],
 "metadata": {
  "kernelspec": {
   "display_name": "Python 3 (ipykernel)",
   "language": "python",
   "name": "python3"
  },
  "language_info": {
   "codemirror_mode": {
    "name": "ipython",
    "version": 3
   },
   "file_extension": ".py",
   "mimetype": "text/x-python",
   "name": "python",
   "nbconvert_exporter": "python",
   "pygments_lexer": "ipython3",
   "version": "3.10.6"
  }
 },
 "nbformat": 4,
 "nbformat_minor": 5
}
